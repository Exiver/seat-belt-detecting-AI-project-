{
 "cells": [
  {
   "attachments": {},
   "cell_type": "markdown",
   "metadata": {},
   "source": [
    "importing main libraries"
   ]
  },
  {
   "cell_type": "code",
   "execution_count": 1,
   "metadata": {},
   "outputs": [],
   "source": [
    "from tkinter import *\n",
    "from tkinter.ttk import *\n",
    "import tkinter as tk\n",
    "from tkinter import filedialog\n",
    "from PIL import Image, ImageTk\n",
    "import cv2\n",
    "import numpy as np"
   ]
  },
  {
   "attachments": {},
   "cell_type": "markdown",
   "metadata": {},
   "source": [
    "filebrowsing function and seat belt detecting "
   ]
  },
  {
   "cell_type": "code",
   "execution_count": 2,
   "metadata": {},
   "outputs": [],
   "source": [
    "\n",
    "#open filebrowser \n",
    "def filebrowser():\n",
    "    filename = filedialog.askopenfilename(initialdir='/', title=\"select image \",\n",
    "                                          filetypes=((\"image\",\"*.png*\"),\n",
    "                                                     (\"AllFiles\",\"*.*\")))\n",
    "    \n",
    "# Load image\n",
    "    img = cv2.imread(filename)\n",
    "\n",
    "# Resize image\n",
    "    img = cv2.resize(img, (260, 510))\n",
    "\n",
    "# Convert to grayscale\n",
    "    gray = cv2.cvtColor(img, cv2.COLOR_BGR2GRAY)\n",
    "\n",
    "# Apply Canny edge detection\n",
    "    edges = cv2.Canny(img, 55, 165, apertureSize=3, L2gradient=False )\n",
    "# Apply Hough Transform\n",
    "    lines = cv2.HoughLinesP(edges, rho=1, theta=np.pi/180, threshold=50, minLineLength=50, maxLineGap=20)\n",
    "# Initialize variables\n",
    "    left_line = None\n",
    "    right_line = None\n",
    "\n",
    "# Loop through lines\n",
    "    for line in lines:\n",
    "        x1, y1, x2, y2 = line[0] \n",
    "        #making shure x2 - x1 =! 0\n",
    "        if x2 - x1 == 0:\n",
    "            slope = 9999\n",
    "        else:\n",
    "            slope = (y2 - y1) / (x2 - x1)\n",
    "\n",
    "    # Filter out lines that are too short or vertical\n",
    "        if abs(slope) < 0.5 or abs(slope) > 2:\n",
    "            continue\n",
    "\n",
    "    # Separate lines into left and right\n",
    "        if slope < 0:\n",
    "            if right_line is None or x1 > right_line[0][2]:\n",
    "                right_line = line\n",
    "        else:\n",
    "            if left_line is None or x1 < left_line[0][0]:\n",
    "                left_line = line\n",
    "            \n",
    "            \n",
    "\n",
    "# Calculate the intersection of the two lines\n",
    "    if left_line is not None and right_line is not None:\n",
    "        left_x1, left_y1, left_x2, left_y2 = left_line[0]\n",
    "        right_x1, right_y1, right_x2, right_y2 = right_line[0]\n",
    "\n",
    "        left_slope = (left_y2 - left_y1) / (left_x2 - left_x1)\n",
    "        left_intercept = left_y1 - left_slope * left_x1\n",
    "\n",
    "        right_slope = (right_y2 - right_y1) / (right_x2 - right_x1)\n",
    "        right_intercept = right_y1 - right_slope * right_x1\n",
    "\n",
    "        x = int((right_intercept - left_intercept) / (left_slope - right_slope))\n",
    "        y = int(left_slope * x + left_intercept)\n",
    "    # drawing rectangle over the seat belt \n",
    "        cv2.rectangle(img, (right_x1, right_y1), (right_x2, right_y2), (0, 0, 255), 2)\n",
    "        cv2.rectangle(img, (x, y), (right_x2, right_y1), (0, 0, 255 ), 2)\n",
    "        \n",
    "        open_result()\n",
    "\n",
    "    else:\n",
    "        seatbeltoff()\n",
    "\n",
    "# Display image\n",
    "    cv2.imshow(\"Seat Belt Detection\", img)\n",
    "    cv2.waitKey(0)\n",
    "    cv2.destroyAllWindows()\n"
   ]
  },
  {
   "attachments": {},
   "cell_type": "markdown",
   "metadata": {},
   "source": [
    "creating main window"
   ]
  },
  {
   "cell_type": "code",
   "execution_count": 3,
   "metadata": {},
   "outputs": [],
   "source": [
    "\n",
    "window1 = Tk()\n",
    "window1.geometry(\"500x500\")\n",
    "window1.title(\"seat belt\")\n",
    "window1.config(background=\"#AFD3E2\")"
   ]
  },
  {
   "attachments": {},
   "cell_type": "markdown",
   "metadata": {},
   "source": [
    "creating bill window "
   ]
  },
  {
   "cell_type": "code",
   "execution_count": 4,
   "metadata": {},
   "outputs": [],
   "source": [
    "# if seat belt is on\n",
    "def open_result():\n",
    "    global label\n",
    "    #creating window \n",
    "    on = tk.Toplevel(window1)\n",
    "    on.geometry(\"300x300\")\n",
    "    on.title(\"seat belt is on \")\n",
    "    on.config(background=\"#AFD3E2\")\n",
    "#writing info \n",
    "    name = Label(on,\n",
    "                  text = \"name : Reem \", font = '14',foreground = 'black',  background=\"#AFD3E2\")\n",
    "    name.place(x = 10, y = 40)\n",
    "    carnum = Label(on,\n",
    "                  text = \"carnum : 1111 | ر ق م\", font = '14',foreground = 'black',  background=\"#AFD3E2\")\n",
    "    carnum.place(x = 10, y = 80)\n",
    "    fine = Label(on,\n",
    "                  text = \"traffic fine: Non \", font = '14',foreground = 'black',  background=\"#AFD3E2\")\n",
    "    fine.place(x = 10, y = 120)\n",
    "    #exit buttom \n",
    "    button1 = Button(on, text = \"Exit\",\n",
    "                     command = on.destroy)\n",
    "    button1.place(x = 80, y = 180)\n",
    "    return on\n",
    "#if seat belt is off\n",
    "def seatbeltoff():\n",
    "    \n",
    "    #creating window \n",
    "    off = Toplevel()\n",
    "\n",
    "    off.title(\"seatbelt is off\")\n",
    "\n",
    "    off.geometry(\"300x300\")\n",
    "    off.config(background=\"#080011\")\n",
    "#writing info \n",
    "    name = Label(off,\n",
    "                text = \"name : Karim  \", font = '14',foreground = 'black',  background=\"#AFD3E2\")\n",
    "    name.place(x = 10, y = 40)\n",
    "    carnum = Label(off,\n",
    "                text = \"carnum : 1111 | ر ق م\", font = '14',foreground = 'black',  background=\"#AFD3E2\")\n",
    "    carnum.place(x = 10, y = 80)\n",
    "    fine = Label(off,\n",
    "                text = \"traffic fine: 2000 EGP \", font = '14',foreground = 'black',  background=\"#AFD3E2\")\n",
    "    fine.place(x = 10, y = 120)\n",
    "     #exit buttom \n",
    "    \n",
    "    button = Button(off, text = \"Exit\",\n",
    "                command = off.destroy)\n",
    "\n",
    "    button.place(x = 80, y = 180)\n",
    "\n",
    "    off.mainloop()\n"
   ]
  },
  {
   "attachments": {},
   "cell_type": "markdown",
   "metadata": {},
   "source": [
    "main window "
   ]
  },
  {
   "cell_type": "code",
   "execution_count": 5,
   "metadata": {},
   "outputs": [],
   "source": [
    "#creating stile object \n",
    "style = Style()\n",
    "style.configure('TButton', font =\n",
    "               ('BentonSans', 15, 'bold'),\n",
    "                    borderwidth = '8' )\n",
    "\n",
    "style.map('TButton', foreground = [('active', 'red')],\n",
    "                     background = [('active', 'black')])\n",
    "\n",
    "photo = PhotoImage(file = r\"pngwing.com (1).png\")\n",
    "\n",
    "photoimage = photo.subsample(10, 10)\n",
    "\n",
    "\n",
    "uploadimage = Button(window1,\n",
    "                     command=filebrowser,\n",
    "                     text='Upload Image', image = photoimage, compound = LEFT )\n",
    "\n",
    "uploadimage.place(x = 120, y = 180, width = 260, height = 100)\n",
    "\n",
    "window1.mainloop()"
   ]
  },
  {
   "cell_type": "code",
   "execution_count": null,
   "metadata": {},
   "outputs": [],
   "source": []
  }
 ],
 "metadata": {
  "kernelspec": {
   "display_name": "Python 3 (ipykernel)",
   "language": "python",
   "name": "python3"
  },
  "language_info": {
   "codemirror_mode": {
    "name": "ipython",
    "version": 3
   },
   "file_extension": ".py",
   "mimetype": "text/x-python",
   "name": "python",
   "nbconvert_exporter": "python",
   "pygments_lexer": "ipython3",
   "version": "3.9.13"
  }
 },
 "nbformat": 4,
 "nbformat_minor": 2
}
